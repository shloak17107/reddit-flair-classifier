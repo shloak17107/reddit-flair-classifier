{
 "cells": [
  {
   "cell_type": "markdown",
   "metadata": {},
   "source": [
    "# Flair Detector"
   ]
  },
  {
   "cell_type": "code",
   "execution_count": 11,
   "metadata": {},
   "outputs": [],
   "source": [
    "import pandas as pd\n",
    "\n",
    "df = pd.read_csv('reddit-india-data.csv')"
   ]
  },
  {
   "cell_type": "code",
   "execution_count": 12,
   "metadata": {},
   "outputs": [
    {
     "data": {
      "text/html": [
       "<div>\n",
       "<style scoped>\n",
       "    .dataframe tbody tr th:only-of-type {\n",
       "        vertical-align: middle;\n",
       "    }\n",
       "\n",
       "    .dataframe tbody tr th {\n",
       "        vertical-align: top;\n",
       "    }\n",
       "\n",
       "    .dataframe thead th {\n",
       "        text-align: right;\n",
       "    }\n",
       "</style>\n",
       "<table border=\"1\" class=\"dataframe\">\n",
       "  <thead>\n",
       "    <tr style=\"text-align: right;\">\n",
       "      <th></th>\n",
       "      <th>id</th>\n",
       "      <th>flair</th>\n",
       "      <th>title</th>\n",
       "      <th>upvotes</th>\n",
       "      <th>comments</th>\n",
       "      <th>upvote_ratio</th>\n",
       "      <th>stickied</th>\n",
       "    </tr>\n",
       "  </thead>\n",
       "  <tbody>\n",
       "    <tr>\n",
       "      <th>0</th>\n",
       "      <td>g1zi21</td>\n",
       "      <td>Coronavirus</td>\n",
       "      <td>Coronavirus (COVID-19) Megathread - News and U...</td>\n",
       "      <td>202</td>\n",
       "      <td>3935</td>\n",
       "      <td>0.97</td>\n",
       "      <td>True</td>\n",
       "    </tr>\n",
       "    <tr>\n",
       "      <th>1</th>\n",
       "      <td>fzub9j</td>\n",
       "      <td>Official Announcement</td>\n",
       "      <td>Announcing r/IndiaMeme, our own sub for memes ...</td>\n",
       "      <td>326</td>\n",
       "      <td>89</td>\n",
       "      <td>0.89</td>\n",
       "      <td>True</td>\n",
       "    </tr>\n",
       "    <tr>\n",
       "      <th>2</th>\n",
       "      <td>g8s2sw</td>\n",
       "      <td>Food</td>\n",
       "      <td>Woke up dreaming of Pav Bhaji. 3 hours later, ...</td>\n",
       "      <td>3219</td>\n",
       "      <td>210</td>\n",
       "      <td>0.95</td>\n",
       "      <td>False</td>\n",
       "    </tr>\n",
       "    <tr>\n",
       "      <th>3</th>\n",
       "      <td>g8mr2h</td>\n",
       "      <td>Coronavirus</td>\n",
       "      <td>Indian man travels 1400 kms after buying 28 to...</td>\n",
       "      <td>1065</td>\n",
       "      <td>85</td>\n",
       "      <td>0.99</td>\n",
       "      <td>False</td>\n",
       "    </tr>\n",
       "    <tr>\n",
       "      <th>4</th>\n",
       "      <td>g8ud9g</td>\n",
       "      <td>Coronavirus</td>\n",
       "      <td>India Bought 'Overpriced' Chinese COVID-19 Tes...</td>\n",
       "      <td>163</td>\n",
       "      <td>25</td>\n",
       "      <td>0.98</td>\n",
       "      <td>False</td>\n",
       "    </tr>\n",
       "  </tbody>\n",
       "</table>\n",
       "</div>"
      ],
      "text/plain": [
       "       id                  flair  \\\n",
       "0  g1zi21            Coronavirus   \n",
       "1  fzub9j  Official Announcement   \n",
       "2  g8s2sw                   Food   \n",
       "3  g8mr2h            Coronavirus   \n",
       "4  g8ud9g            Coronavirus   \n",
       "\n",
       "                                               title  upvotes  comments  \\\n",
       "0  Coronavirus (COVID-19) Megathread - News and U...      202      3935   \n",
       "1  Announcing r/IndiaMeme, our own sub for memes ...      326        89   \n",
       "2  Woke up dreaming of Pav Bhaji. 3 hours later, ...     3219       210   \n",
       "3  Indian man travels 1400 kms after buying 28 to...     1065        85   \n",
       "4  India Bought 'Overpriced' Chinese COVID-19 Tes...      163        25   \n",
       "\n",
       "   upvote_ratio  stickied  \n",
       "0          0.97      True  \n",
       "1          0.89      True  \n",
       "2          0.95     False  \n",
       "3          0.99     False  \n",
       "4          0.98     False  "
      ]
     },
     "execution_count": 12,
     "metadata": {},
     "output_type": "execute_result"
    }
   ],
   "source": [
    "df.head()"
   ]
  },
  {
   "cell_type": "code",
   "execution_count": 13,
   "metadata": {},
   "outputs": [],
   "source": [
    "from sklearn import preprocessing\n",
    "le = preprocessing.LabelEncoder()\n",
    "df['flair'] = le.fit_transform(df['flair'].astype(str))"
   ]
  },
  {
   "cell_type": "code",
   "execution_count": 14,
   "metadata": {},
   "outputs": [],
   "source": [
    "df = df.sample(frac=1)\n",
    "X = df.drop(columns=['id', 'flair', 'title'])\n",
    "y = df['flair']"
   ]
  },
  {
   "cell_type": "code",
   "execution_count": 15,
   "metadata": {},
   "outputs": [
    {
     "name": "stdout",
     "output_type": "stream",
     "text": [
      "     upvotes  comments  upvote_ratio  stickied\n",
      "586        5         0          0.99     False\n",
      "462       28        20          0.78     False\n",
      "545       37         0          0.91     False\n",
      "667        0         0          0.38     False\n",
      "540       20         2          0.78     False\n",
      "586    3\n",
      "462    5\n",
      "545    3\n",
      "667    3\n",
      "540    9\n",
      "Name: flair, dtype: int64\n",
      "['AskIndia' 'Business/Finance' 'CAA-NRC-NPR' 'Coronavirus' 'Food'\n",
      " 'Non-Political' 'Official Announcement' 'Photography' 'Policy/Economy'\n",
      " 'Politics' 'Scheduled' 'Science/Technology' 'Sports' 'TIL' 'nan']\n"
     ]
    }
   ],
   "source": [
    "print(X.head())\n",
    "print(y.head())\n",
    "print(le.classes_)"
   ]
  },
  {
   "cell_type": "code",
   "execution_count": 16,
   "metadata": {},
   "outputs": [
    {
     "name": "stderr",
     "output_type": "stream",
     "text": [
      "/usr/local/lib/python3.7/site-packages/sklearn/model_selection/_split.py:657: Warning: The least populated class in y has only 1 members, which is too few. The minimum number of members in any class cannot be less than n_splits=5.\n",
      "  % (min_groups, self.n_splits)), Warning)\n"
     ]
    },
    {
     "data": {
      "text/plain": [
       "array([0.36477987, 0.32692308, 0.35947712, 0.38513514, 0.375     ])"
      ]
     },
     "execution_count": 16,
     "metadata": {},
     "output_type": "execute_result"
    }
   ],
   "source": [
    "from sklearn.model_selection import cross_val_score, cross_val_predict\n",
    "from sklearn.metrics import accuracy_score\n",
    "from sklearn.svm import SVC\n",
    "clf = SVC(gamma='auto')\n",
    "scores = cross_val_score(clf, X, y, cv=5)\n",
    "scores"
   ]
  },
  {
   "cell_type": "code",
   "execution_count": 17,
   "metadata": {},
   "outputs": [
    {
     "name": "stderr",
     "output_type": "stream",
     "text": [
      "/usr/local/lib/python3.7/site-packages/sklearn/model_selection/_split.py:657: Warning: The least populated class in y has only 1 members, which is too few. The minimum number of members in any class cannot be less than n_splits=5.\n",
      "  % (min_groups, self.n_splits)), Warning)\n"
     ]
    },
    {
     "data": {
      "text/plain": [
       "0.3618421052631579"
      ]
     },
     "execution_count": 17,
     "metadata": {},
     "output_type": "execute_result"
    }
   ],
   "source": [
    "from sklearn.ensemble import RandomForestClassifier\n",
    "clf=RandomForestClassifier(n_estimators=10)\n",
    "y_pred = cross_val_predict(clf, X, y, cv=5)\n",
    "accuracy_score(y, y_pred)"
   ]
  },
  {
   "cell_type": "code",
   "execution_count": 18,
   "metadata": {},
   "outputs": [
    {
     "name": "stderr",
     "output_type": "stream",
     "text": [
      "/usr/local/lib/python3.7/site-packages/sklearn/model_selection/_split.py:657: Warning: The least populated class in y has only 1 members, which is too few. The minimum number of members in any class cannot be less than n_splits=5.\n",
      "  % (min_groups, self.n_splits)), Warning)\n"
     ]
    },
    {
     "data": {
      "text/plain": [
       "0.3868421052631579"
      ]
     },
     "execution_count": 18,
     "metadata": {},
     "output_type": "execute_result"
    }
   ],
   "source": [
    "from sklearn.ensemble import RandomForestClassifier\n",
    "clf=RandomForestClassifier(n_estimators=100)\n",
    "y_pred = cross_val_predict(clf, X, y, cv=5)\n",
    "accuracy_score(y, y_pred)"
   ]
  },
  {
   "cell_type": "code",
   "execution_count": 19,
   "metadata": {},
   "outputs": [
    {
     "name": "stderr",
     "output_type": "stream",
     "text": [
      "/usr/local/lib/python3.7/site-packages/sklearn/model_selection/_split.py:657: Warning: The least populated class in y has only 1 members, which is too few. The minimum number of members in any class cannot be less than n_splits=5.\n",
      "  % (min_groups, self.n_splits)), Warning)\n"
     ]
    },
    {
     "data": {
      "text/plain": [
       "0.38421052631578945"
      ]
     },
     "execution_count": 19,
     "metadata": {},
     "output_type": "execute_result"
    }
   ],
   "source": [
    "from sklearn.ensemble import RandomForestClassifier\n",
    "from sklearn.model_selection import cross_val_predict\n",
    "from sklearn.metrics import confusion_matrix\n",
    "from sklearn.metrics import accuracy_score\n",
    "\n",
    "clf = RandomForestClassifier(n_estimators=1000)\n",
    "y_pred = cross_val_predict(clf, X, y, cv=5)\n",
    "accuracy_score(y, y_pred)"
   ]
  },
  {
   "cell_type": "code",
   "execution_count": 20,
   "metadata": {},
   "outputs": [
    {
     "name": "stderr",
     "output_type": "stream",
     "text": [
      "/usr/local/lib/python3.7/site-packages/sklearn/metrics/classification.py:1437: UndefinedMetricWarning: Precision and F-score are ill-defined and being set to 0.0 in labels with no predicted samples.\n",
      "  'precision', 'predicted', average, warn_for)\n"
     ]
    },
    {
     "name": "stdout",
     "output_type": "stream",
     "text": [
      "              precision    recall  f1-score   support\n",
      "\n",
      "           0       0.49      0.59      0.53       107\n",
      "           1       0.11      0.04      0.06        24\n",
      "           2       0.00      0.00      0.00         7\n",
      "           3       0.45      0.58      0.51       269\n",
      "           4       0.29      0.14      0.19        14\n",
      "           5       0.17      0.14      0.15       113\n",
      "           6       0.00      0.00      0.00         1\n",
      "           7       0.00      0.00      0.00        16\n",
      "           8       0.03      0.02      0.02        58\n",
      "           9       0.47      0.44      0.45       119\n",
      "          10       0.00      0.00      0.00         8\n",
      "          11       0.00      0.00      0.00        17\n",
      "          12       0.00      0.00      0.00         3\n",
      "          13       0.00      0.00      0.00         1\n",
      "          14       0.00      0.00      0.00         3\n",
      "\n",
      "    accuracy                           0.38       760\n",
      "   macro avg       0.13      0.13      0.13       760\n",
      "weighted avg       0.34      0.38      0.35       760\n",
      "\n"
     ]
    },
    {
     "data": {
      "text/plain": [
       "[Text(0, 0.5, 'nan'),\n",
       " Text(0, 1.5, 'TIL'),\n",
       " Text(0, 2.5, 'Sports'),\n",
       " Text(0, 3.5, 'Science/Technology'),\n",
       " Text(0, 4.5, 'Scheduled'),\n",
       " Text(0, 5.5, 'Politics'),\n",
       " Text(0, 6.5, 'Policy/Economy'),\n",
       " Text(0, 7.5, 'Photography'),\n",
       " Text(0, 8.5, 'Official Announcement'),\n",
       " Text(0, 9.5, 'Non-Political'),\n",
       " Text(0, 10.5, 'Food'),\n",
       " Text(0, 11.5, 'Coronavirus'),\n",
       " Text(0, 12.5, 'CAA-NRC-NPR'),\n",
       " Text(0, 13.5, 'Business/Finance'),\n",
       " Text(0, 14.5, 'AskIndia')]"
      ]
     },
     "execution_count": 20,
     "metadata": {},
     "output_type": "execute_result"
    },
    {
     "data": {
      "image/png": "[encoded data removed]",
      "text/plain": [
       "<Figure size 432x288 with 2 Axes>"
      ]
     },
     "metadata": {
      "needs_background": "light"
     },
     "output_type": "display_data"
    }
   ],
   "source": [
    "from sklearn.metrics import confusion_matrix\n",
    "from sklearn.metrics import classification_report\n",
    "import seaborn\n",
    "import matplotlib.pyplot as plt\n",
    "\n",
    "cm = confusion_matrix(y, y_pred)\n",
    "print(classification_report(y, y_pred))\n",
    "\n",
    "ax= plt.subplot()\n",
    "seaborn.heatmap(cm, annot=True, ax = ax)\n",
    "\n",
    "ax.set_xlabel('Predicted labels')\n",
    "ax.set_ylabel('True labels')\n",
    "ax.set_title('Confusion Matrix')\n",
    "ax.xaxis.set_ticklabels(list(le.classes_), rotation=30, ha=\"right\")\n",
    "ax.yaxis.set_ticklabels(reversed(list(le.classes_)), rotation=30)"
   ]
  },
  {
   "cell_type": "code",
   "execution_count": null,
   "metadata": {},
   "outputs": [],
   "source": []
  }
 ],
 "metadata": {
  "kernelspec": {
   "display_name": "Python 3",
   "language": "python",
   "name": "python3"
  },
  "language_info": {
   "codemirror_mode": {
    "name": "ipython",
    "version": 3
   },
   "file_extension": ".py",
   "mimetype": "text/x-python",
   "name": "python",
   "nbconvert_exporter": "python",
   "pygments_lexer": "ipython3",
   "version": "3.7.7"
  }
 },
 "nbformat": 4,
 "nbformat_minor": 4
}
